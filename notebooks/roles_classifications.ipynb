{
 "nbformat": 4,
 "nbformat_minor": 0,
 "metadata": {
  "colab": {
   "name": "roles_classifications.ipynb",
   "provenance": [],
   "machine_shape": "hm"
  },
  "kernelspec": {
   "name": "python3",
   "display_name": "Python 3"
  },
  "language_info": {
   "name": "python"
  },
  "accelerator": "GPU",
  "gpuClass": "standard"
 },
 "cells": [
  {
   "cell_type": "code",
   "execution_count": null,
   "metadata": {
    "colab": {
     "base_uri": "https://localhost:8080/"
    },
    "id": "ZtrhuIdCZrmr",
    "executionInfo": {
     "status": "ok",
     "timestamp": 1658471403556,
     "user_tz": 420,
     "elapsed": 16300,
     "user": {
      "displayName": "Nathan Andrew Chi",
      "userId": "05184636368122310979"
     }
    },
    "outputId": "9cfcb9c9-c12f-458d-b24d-790cd2921102",
    "pycharm": {
     "name": "#%%\n"
    }
   },
   "outputs": [
    {
     "output_type": "stream",
     "name": "stdout",
     "text": [
      "Mounted at /content/gdrive\n"
     ]
    }
   ],
   "source": [
    "from google.colab import drive\n",
    "\n",
    "drive.mount('/content/gdrive')\n",
    "\n"
   ]
  },
  {
   "cell_type": "code",
   "source": [
    "%cd '/content/gdrive/My Drive/Datathon/'"
   ],
   "metadata": {
    "colab": {
     "base_uri": "https://localhost:8080/"
    },
    "id": "6AxsFk8HaGPS",
    "executionInfo": {
     "status": "ok",
     "timestamp": 1658471521962,
     "user_tz": 420,
     "elapsed": 155,
     "user": {
      "displayName": "Nathan Andrew Chi",
      "userId": "05184636368122310979"
     }
    },
    "outputId": "1d38ca9f-a416-4a5e-c534-16ca6ef18687",
    "pycharm": {
     "name": "#%%\n"
    }
   },
   "execution_count": null,
   "outputs": [
    {
     "output_type": "stream",
     "name": "stdout",
     "text": [
      "/content/gdrive/My Drive/Datathon\n"
     ]
    }
   ]
  },
  {
   "cell_type": "code",
   "source": [
    "%ls"
   ],
   "metadata": {
    "colab": {
     "base_uri": "https://localhost:8080/"
    },
    "id": "CiUVAvU7tPL3",
    "executionInfo": {
     "status": "ok",
     "timestamp": 1658471523389,
     "user_tz": 420,
     "elapsed": 388,
     "user": {
      "displayName": "Nathan Andrew Chi",
      "userId": "05184636368122310979"
     }
    },
    "outputId": "1aa3065b-4502-4b63-f2fb-6cf975ad9f12",
    "pycharm": {
     "name": "#%%\n"
    }
   },
   "execution_count": null,
   "outputs": [
    {
     "output_type": "stream",
     "name": "stdout",
     "text": [
      " avg_data_with_dates.csv  'Ideas for Datathon.gdoc'\n",
      " correlations.ipynb       'Information for Project.gdoc'\n",
      " \u001B[0m\u001B[01;34mData\u001B[0m/                     kmeans_roles.ipynb\n",
      "'Data Correlation.ipynb'   \u001B[01;34mLC\u001B[0m/\n",
      " glove.6B.100d.txt         mlp_isoc.pkl\n",
      " glove.6B.200d.txt        'Modelling Data.ipynb'\n",
      " glove.6B.300d.txt         Project.gdoc\n",
      " glove.6B.300d.txt.pt      roles_classifications.ipynb\n",
      " glove.6B.50d.txt         'Sentient Manalysis.ipynb'\n",
      " glove.6B.zip\n"
     ]
    }
   ]
  },
  {
   "cell_type": "code",
   "source": [
    "import pandas as pd"
   ],
   "metadata": {
    "id": "U4Zj1P1KZysI",
    "pycharm": {
     "name": "#%%\n"
    }
   },
   "execution_count": null,
   "outputs": []
  },
  {
   "cell_type": "code",
   "source": [
    "from torchtext.vocab import GloVe\n",
    "import nltk.data\n",
    "import nltk"
   ],
   "metadata": {
    "id": "UqZMQXtBfJ-8",
    "pycharm": {
     "name": "#%%\n"
    }
   },
   "execution_count": null,
   "outputs": []
  },
  {
   "cell_type": "code",
   "source": [
    "nltk.download('punkt')"
   ],
   "metadata": {
    "colab": {
     "base_uri": "https://localhost:8080/"
    },
    "id": "VYUxYBLjgfF6",
    "executionInfo": {
     "status": "ok",
     "timestamp": 1658401766327,
     "user_tz": 420,
     "elapsed": 904,
     "user": {
      "displayName": "Nathan Chi",
      "userId": "15298477877853561832"
     }
    },
    "outputId": "502381a7-dbb4-4baf-e4c6-77cc9e24405f",
    "pycharm": {
     "name": "#%%\n"
    }
   },
   "execution_count": null,
   "outputs": [
    {
     "output_type": "stream",
     "name": "stderr",
     "text": [
      "[nltk_data] Downloading package punkt to /root/nltk_data...\n",
      "[nltk_data]   Unzipping tokenizers/punkt.zip.\n"
     ]
    },
    {
     "output_type": "execute_result",
     "data": {
      "text/plain": [
       "True"
      ]
     },
     "metadata": {},
     "execution_count": 6
    }
   ]
  },
  {
   "cell_type": "markdown",
   "source": [
    "###Import Data"
   ],
   "metadata": {
    "id": "JCN7NLYyZ-OR",
    "pycharm": {
     "name": "#%% md\n"
    }
   }
  },
  {
   "cell_type": "code",
   "source": [
    "soc_roles_cleaned = pd.read_csv('./Data/soc_roles_cleaned.csv')"
   ],
   "metadata": {
    "id": "ZzUhiF_KZ9YW",
    "pycharm": {
     "name": "#%%\n"
    }
   },
   "execution_count": null,
   "outputs": []
  },
  {
   "cell_type": "code",
   "source": [
    "soc_roles_cleaned.head(5)"
   ],
   "metadata": {
    "colab": {
     "base_uri": "https://localhost:8080/",
     "height": 206
    },
    "id": "2QLFw_ANaDbI",
    "executionInfo": {
     "status": "ok",
     "timestamp": 1658367558202,
     "user_tz": 420,
     "elapsed": 7,
     "user": {
      "displayName": "Nathan Chi",
      "userId": "15298477877853561832"
     }
    },
    "outputId": "976ee4ef-3bb4-4548-874c-4ed9a4c5f104",
    "pycharm": {
     "name": "#%%\n"
    }
   },
   "execution_count": null,
   "outputs": [
    {
     "output_type": "execute_result",
     "data": {
      "text/plain": [
       "                    Major                                 Role       ID\n",
       "0  Management Occupations                     Chief Executives  11-1011\n",
       "1  Management Occupations      General and Operations Managers  11-1021\n",
       "2  Management Occupations                          Legislators  11-1031\n",
       "3  Management Occupations  Advertising and Promotions Managers  11-2011\n",
       "4  Management Occupations                   Marketing Managers  11-2021"
      ],
      "text/html": [
       "\n",
       "  <div id=\"df-f53ff693-babe-47c1-83ec-688711e82d28\">\n",
       "    <div class=\"colab-df-container\">\n",
       "      <div>\n",
       "<style scoped>\n",
       "    .dataframe tbody tr th:only-of-type {\n",
       "        vertical-align: middle;\n",
       "    }\n",
       "\n",
       "    .dataframe tbody tr th {\n",
       "        vertical-align: top;\n",
       "    }\n",
       "\n",
       "    .dataframe thead th {\n",
       "        text-align: right;\n",
       "    }\n",
       "</style>\n",
       "<table border=\"1\" class=\"dataframe\">\n",
       "  <thead>\n",
       "    <tr style=\"text-align: right;\">\n",
       "      <th></th>\n",
       "      <th>Major</th>\n",
       "      <th>Role</th>\n",
       "      <th>ID</th>\n",
       "    </tr>\n",
       "  </thead>\n",
       "  <tbody>\n",
       "    <tr>\n",
       "      <th>0</th>\n",
       "      <td>Management Occupations</td>\n",
       "      <td>Chief Executives</td>\n",
       "      <td>11-1011</td>\n",
       "    </tr>\n",
       "    <tr>\n",
       "      <th>1</th>\n",
       "      <td>Management Occupations</td>\n",
       "      <td>General and Operations Managers</td>\n",
       "      <td>11-1021</td>\n",
       "    </tr>\n",
       "    <tr>\n",
       "      <th>2</th>\n",
       "      <td>Management Occupations</td>\n",
       "      <td>Legislators</td>\n",
       "      <td>11-1031</td>\n",
       "    </tr>\n",
       "    <tr>\n",
       "      <th>3</th>\n",
       "      <td>Management Occupations</td>\n",
       "      <td>Advertising and Promotions Managers</td>\n",
       "      <td>11-2011</td>\n",
       "    </tr>\n",
       "    <tr>\n",
       "      <th>4</th>\n",
       "      <td>Management Occupations</td>\n",
       "      <td>Marketing Managers</td>\n",
       "      <td>11-2021</td>\n",
       "    </tr>\n",
       "  </tbody>\n",
       "</table>\n",
       "</div>\n",
       "      <button class=\"colab-df-convert\" onclick=\"convertToInteractive('df-f53ff693-babe-47c1-83ec-688711e82d28')\"\n",
       "              title=\"Convert this dataframe to an interactive table.\"\n",
       "              style=\"display:none;\">\n",
       "        \n",
       "  <svg xmlns=\"http://www.w3.org/2000/svg\" height=\"24px\"viewBox=\"0 0 24 24\"\n",
       "       width=\"24px\">\n",
       "    <path d=\"M0 0h24v24H0V0z\" fill=\"none\"/>\n",
       "    <path d=\"M18.56 5.44l.94 2.06.94-2.06 2.06-.94-2.06-.94-.94-2.06-.94 2.06-2.06.94zm-11 1L8.5 8.5l.94-2.06 2.06-.94-2.06-.94L8.5 2.5l-.94 2.06-2.06.94zm10 10l.94 2.06.94-2.06 2.06-.94-2.06-.94-.94-2.06-.94 2.06-2.06.94z\"/><path d=\"M17.41 7.96l-1.37-1.37c-.4-.4-.92-.59-1.43-.59-.52 0-1.04.2-1.43.59L10.3 9.45l-7.72 7.72c-.78.78-.78 2.05 0 2.83L4 21.41c.39.39.9.59 1.41.59.51 0 1.02-.2 1.41-.59l7.78-7.78 2.81-2.81c.8-.78.8-2.07 0-2.86zM5.41 20L4 18.59l7.72-7.72 1.47 1.35L5.41 20z\"/>\n",
       "  </svg>\n",
       "      </button>\n",
       "      \n",
       "  <style>\n",
       "    .colab-df-container {\n",
       "      display:flex;\n",
       "      flex-wrap:wrap;\n",
       "      gap: 12px;\n",
       "    }\n",
       "\n",
       "    .colab-df-convert {\n",
       "      background-color: #E8F0FE;\n",
       "      border: none;\n",
       "      border-radius: 50%;\n",
       "      cursor: pointer;\n",
       "      display: none;\n",
       "      fill: #1967D2;\n",
       "      height: 32px;\n",
       "      padding: 0 0 0 0;\n",
       "      width: 32px;\n",
       "    }\n",
       "\n",
       "    .colab-df-convert:hover {\n",
       "      background-color: #E2EBFA;\n",
       "      box-shadow: 0px 1px 2px rgba(60, 64, 67, 0.3), 0px 1px 3px 1px rgba(60, 64, 67, 0.15);\n",
       "      fill: #174EA6;\n",
       "    }\n",
       "\n",
       "    [theme=dark] .colab-df-convert {\n",
       "      background-color: #3B4455;\n",
       "      fill: #D2E3FC;\n",
       "    }\n",
       "\n",
       "    [theme=dark] .colab-df-convert:hover {\n",
       "      background-color: #434B5C;\n",
       "      box-shadow: 0px 1px 3px 1px rgba(0, 0, 0, 0.15);\n",
       "      filter: drop-shadow(0px 1px 2px rgba(0, 0, 0, 0.3));\n",
       "      fill: #FFFFFF;\n",
       "    }\n",
       "  </style>\n",
       "\n",
       "      <script>\n",
       "        const buttonEl =\n",
       "          document.querySelector('#df-f53ff693-babe-47c1-83ec-688711e82d28 button.colab-df-convert');\n",
       "        buttonEl.style.display =\n",
       "          google.colab.kernel.accessAllowed ? 'block' : 'none';\n",
       "\n",
       "        async function convertToInteractive(key) {\n",
       "          const element = document.querySelector('#df-f53ff693-babe-47c1-83ec-688711e82d28');\n",
       "          const dataTable =\n",
       "            await google.colab.kernel.invokeFunction('convertToInteractive',\n",
       "                                                     [key], {});\n",
       "          if (!dataTable) return;\n",
       "\n",
       "          const docLinkHtml = 'Like what you see? Visit the ' +\n",
       "            '<a target=\"_blank\" href=https://colab.research.google.com/notebooks/data_table.ipynb>data table notebook</a>'\n",
       "            + ' to learn more about interactive tables.';\n",
       "          element.innerHTML = '';\n",
       "          dataTable['output_type'] = 'display_data';\n",
       "          await google.colab.output.renderOutput(dataTable, element);\n",
       "          const docLink = document.createElement('div');\n",
       "          docLink.innerHTML = docLinkHtml;\n",
       "          element.appendChild(docLink);\n",
       "        }\n",
       "      </script>\n",
       "    </div>\n",
       "  </div>\n",
       "  "
      ]
     },
     "metadata": {},
     "execution_count": 7
    }
   ]
  },
  {
   "cell_type": "code",
   "source": [
    "isco = pd.read_csv('./Data/isco_roles_fixed.csv')"
   ],
   "metadata": {
    "id": "_6NuHGFjeLJx",
    "pycharm": {
     "name": "#%%\n"
    }
   },
   "execution_count": null,
   "outputs": []
  },
  {
   "cell_type": "code",
   "source": [
    "isco.head(5)"
   ],
   "metadata": {
    "colab": {
     "base_uri": "https://localhost:8080/",
     "height": 206
    },
    "id": "hNKMzcylp6Py",
    "executionInfo": {
     "status": "ok",
     "timestamp": 1658372844110,
     "user_tz": 420,
     "elapsed": 5,
     "user": {
      "displayName": "Nathan Chi",
      "userId": "15298477877853561832"
     }
    },
    "outputId": "b64bfeb6-772e-4eb3-b56e-711d2bef970e",
    "pycharm": {
     "name": "#%%\n"
    }
   },
   "execution_count": null,
   "outputs": [
    {
     "output_type": "execute_result",
     "data": {
      "text/plain": [
       "   code                                               role\n",
       "0     1                                           Managers\n",
       "1     1  Chief Executives, Senior Officials and Legisla...\n",
       "2     1                   Legislators and Senior Officials\n",
       "3     1                                        Legislators\n",
       "4     1                        Senior Government Officials"
      ],
      "text/html": [
       "\n",
       "  <div id=\"df-98c718f4-d8d5-4b0a-bbc7-e59b4fec77a4\">\n",
       "    <div class=\"colab-df-container\">\n",
       "      <div>\n",
       "<style scoped>\n",
       "    .dataframe tbody tr th:only-of-type {\n",
       "        vertical-align: middle;\n",
       "    }\n",
       "\n",
       "    .dataframe tbody tr th {\n",
       "        vertical-align: top;\n",
       "    }\n",
       "\n",
       "    .dataframe thead th {\n",
       "        text-align: right;\n",
       "    }\n",
       "</style>\n",
       "<table border=\"1\" class=\"dataframe\">\n",
       "  <thead>\n",
       "    <tr style=\"text-align: right;\">\n",
       "      <th></th>\n",
       "      <th>code</th>\n",
       "      <th>role</th>\n",
       "    </tr>\n",
       "  </thead>\n",
       "  <tbody>\n",
       "    <tr>\n",
       "      <th>0</th>\n",
       "      <td>1</td>\n",
       "      <td>Managers</td>\n",
       "    </tr>\n",
       "    <tr>\n",
       "      <th>1</th>\n",
       "      <td>1</td>\n",
       "      <td>Chief Executives, Senior Officials and Legisla...</td>\n",
       "    </tr>\n",
       "    <tr>\n",
       "      <th>2</th>\n",
       "      <td>1</td>\n",
       "      <td>Legislators and Senior Officials</td>\n",
       "    </tr>\n",
       "    <tr>\n",
       "      <th>3</th>\n",
       "      <td>1</td>\n",
       "      <td>Legislators</td>\n",
       "    </tr>\n",
       "    <tr>\n",
       "      <th>4</th>\n",
       "      <td>1</td>\n",
       "      <td>Senior Government Officials</td>\n",
       "    </tr>\n",
       "  </tbody>\n",
       "</table>\n",
       "</div>\n",
       "      <button class=\"colab-df-convert\" onclick=\"convertToInteractive('df-98c718f4-d8d5-4b0a-bbc7-e59b4fec77a4')\"\n",
       "              title=\"Convert this dataframe to an interactive table.\"\n",
       "              style=\"display:none;\">\n",
       "        \n",
       "  <svg xmlns=\"http://www.w3.org/2000/svg\" height=\"24px\"viewBox=\"0 0 24 24\"\n",
       "       width=\"24px\">\n",
       "    <path d=\"M0 0h24v24H0V0z\" fill=\"none\"/>\n",
       "    <path d=\"M18.56 5.44l.94 2.06.94-2.06 2.06-.94-2.06-.94-.94-2.06-.94 2.06-2.06.94zm-11 1L8.5 8.5l.94-2.06 2.06-.94-2.06-.94L8.5 2.5l-.94 2.06-2.06.94zm10 10l.94 2.06.94-2.06 2.06-.94-2.06-.94-.94-2.06-.94 2.06-2.06.94z\"/><path d=\"M17.41 7.96l-1.37-1.37c-.4-.4-.92-.59-1.43-.59-.52 0-1.04.2-1.43.59L10.3 9.45l-7.72 7.72c-.78.78-.78 2.05 0 2.83L4 21.41c.39.39.9.59 1.41.59.51 0 1.02-.2 1.41-.59l7.78-7.78 2.81-2.81c.8-.78.8-2.07 0-2.86zM5.41 20L4 18.59l7.72-7.72 1.47 1.35L5.41 20z\"/>\n",
       "  </svg>\n",
       "      </button>\n",
       "      \n",
       "  <style>\n",
       "    .colab-df-container {\n",
       "      display:flex;\n",
       "      flex-wrap:wrap;\n",
       "      gap: 12px;\n",
       "    }\n",
       "\n",
       "    .colab-df-convert {\n",
       "      background-color: #E8F0FE;\n",
       "      border: none;\n",
       "      border-radius: 50%;\n",
       "      cursor: pointer;\n",
       "      display: none;\n",
       "      fill: #1967D2;\n",
       "      height: 32px;\n",
       "      padding: 0 0 0 0;\n",
       "      width: 32px;\n",
       "    }\n",
       "\n",
       "    .colab-df-convert:hover {\n",
       "      background-color: #E2EBFA;\n",
       "      box-shadow: 0px 1px 2px rgba(60, 64, 67, 0.3), 0px 1px 3px 1px rgba(60, 64, 67, 0.15);\n",
       "      fill: #174EA6;\n",
       "    }\n",
       "\n",
       "    [theme=dark] .colab-df-convert {\n",
       "      background-color: #3B4455;\n",
       "      fill: #D2E3FC;\n",
       "    }\n",
       "\n",
       "    [theme=dark] .colab-df-convert:hover {\n",
       "      background-color: #434B5C;\n",
       "      box-shadow: 0px 1px 3px 1px rgba(0, 0, 0, 0.15);\n",
       "      filter: drop-shadow(0px 1px 2px rgba(0, 0, 0, 0.3));\n",
       "      fill: #FFFFFF;\n",
       "    }\n",
       "  </style>\n",
       "\n",
       "      <script>\n",
       "        const buttonEl =\n",
       "          document.querySelector('#df-98c718f4-d8d5-4b0a-bbc7-e59b4fec77a4 button.colab-df-convert');\n",
       "        buttonEl.style.display =\n",
       "          google.colab.kernel.accessAllowed ? 'block' : 'none';\n",
       "\n",
       "        async function convertToInteractive(key) {\n",
       "          const element = document.querySelector('#df-98c718f4-d8d5-4b0a-bbc7-e59b4fec77a4');\n",
       "          const dataTable =\n",
       "            await google.colab.kernel.invokeFunction('convertToInteractive',\n",
       "                                                     [key], {});\n",
       "          if (!dataTable) return;\n",
       "\n",
       "          const docLinkHtml = 'Like what you see? Visit the ' +\n",
       "            '<a target=\"_blank\" href=https://colab.research.google.com/notebooks/data_table.ipynb>data table notebook</a>'\n",
       "            + ' to learn more about interactive tables.';\n",
       "          element.innerHTML = '';\n",
       "          dataTable['output_type'] = 'display_data';\n",
       "          await google.colab.output.renderOutput(dataTable, element);\n",
       "          const docLink = document.createElement('div');\n",
       "          docLink.innerHTML = docLinkHtml;\n",
       "          element.appendChild(docLink);\n",
       "        }\n",
       "      </script>\n",
       "    </div>\n",
       "  </div>\n",
       "  "
      ]
     },
     "metadata": {},
     "execution_count": 143
    }
   ]
  },
  {
   "cell_type": "code",
   "source": [
    "len(isco)"
   ],
   "metadata": {
    "colab": {
     "base_uri": "https://localhost:8080/"
    },
    "id": "Jv-149_uq9O8",
    "executionInfo": {
     "status": "ok",
     "timestamp": 1658372847113,
     "user_tz": 420,
     "elapsed": 163,
     "user": {
      "displayName": "Nathan Chi",
      "userId": "15298477877853561832"
     }
    },
    "outputId": "87c403dc-efc2-4803-eca9-80c2d7b5dece",
    "pycharm": {
     "name": "#%%\n"
    }
   },
   "execution_count": null,
   "outputs": [
    {
     "output_type": "execute_result",
     "data": {
      "text/plain": [
       "619"
      ]
     },
     "metadata": {},
     "execution_count": 144
    }
   ]
  },
  {
   "cell_type": "markdown",
   "source": [
    "###GloVe Embeddings"
   ],
   "metadata": {
    "id": "_ZeCkjhHeLZS",
    "pycharm": {
     "name": "#%% md\n"
    }
   }
  },
  {
   "cell_type": "code",
   "source": [
    "#mean glove embedding for employment\n",
    "def get_average_glove_embedding(sentence):\n",
    "    tokenized = nltk.word_tokenize(sentence.lower())\n",
    "    # print(tokenized)\n",
    "    vectors = [glove[word.lower()].numpy() for word in sentence.split()]\n",
    "    # print(type(vectors), len(vectors), vectors[0].shape)\n",
    "    vectors = np.mean(np.stack(vectors), axis=0)\n",
    "    return vectors"
   ],
   "metadata": {
    "id": "j8v6AU5oasCo",
    "pycharm": {
     "name": "#%%\n"
    }
   },
   "execution_count": null,
   "outputs": []
  },
  {
   "cell_type": "code",
   "metadata": {
    "id": "q42mEtD6N-xg",
    "pycharm": {
     "name": "#%%\n"
    }
   },
   "source": [
    "glove = GloVe(cache='.', name='6B')"
   ],
   "execution_count": null,
   "outputs": []
  },
  {
   "cell_type": "markdown",
   "source": [
    "###ISCO"
   ],
   "metadata": {
    "id": "t67KGeo5ueBQ",
    "pycharm": {
     "name": "#%% md\n"
    }
   }
  },
  {
   "cell_type": "code",
   "source": [
    "isco_glove_embeddings = [get_average_glove_embedding(post) for post in isco['role']]"
   ],
   "metadata": {
    "id": "EqKuCCFrufez",
    "pycharm": {
     "name": "#%%\n"
    }
   },
   "execution_count": null,
   "outputs": []
  },
  {
   "cell_type": "code",
   "source": [
    "isco['glove'] = isco_glove_embeddings"
   ],
   "metadata": {
    "id": "K0IlCvDsul8B",
    "pycharm": {
     "name": "#%%\n"
    }
   },
   "execution_count": null,
   "outputs": []
  },
  {
   "cell_type": "code",
   "source": [
    "isco.head(5)"
   ],
   "metadata": {
    "colab": {
     "base_uri": "https://localhost:8080/",
     "height": 206
    },
    "id": "eyfmQNoTurvh",
    "executionInfo": {
     "status": "ok",
     "timestamp": 1658372933884,
     "user_tz": 420,
     "elapsed": 241,
     "user": {
      "displayName": "Nathan Chi",
      "userId": "15298477877853561832"
     }
    },
    "outputId": "151955e9-145f-4767-f61f-afc8aae38ce9",
    "pycharm": {
     "name": "#%%\n"
    }
   },
   "execution_count": null,
   "outputs": [
    {
     "output_type": "execute_result",
     "data": {
      "text/plain": [
       "   code                                               role  \\\n",
       "0     1                                           Managers   \n",
       "1     1  Chief Executives, Senior Officials and Legisla...   \n",
       "2     1                   Legislators and Senior Officials   \n",
       "3     1                                        Legislators   \n",
       "4     1                        Senior Government Officials   \n",
       "\n",
       "                                               glove  \n",
       "0  [0.005505, 0.48871, 0.35066, -0.14942, 0.23206...  \n",
       "1  [-0.037935168, -0.03564866, 0.021365002, -0.23...  \n",
       "2  [-0.07460425, 0.100172006, 0.018434, -0.212082...  \n",
       "3  [-0.16194, -0.34893, -0.063521, 0.033559, 0.25...  \n",
       "4  [-0.04982433, 0.22908334, -0.076680005, -0.068...  "
      ],
      "text/html": [
       "\n",
       "  <div id=\"df-8f9635f1-6e69-47a6-9138-ff7d8b87e733\">\n",
       "    <div class=\"colab-df-container\">\n",
       "      <div>\n",
       "<style scoped>\n",
       "    .dataframe tbody tr th:only-of-type {\n",
       "        vertical-align: middle;\n",
       "    }\n",
       "\n",
       "    .dataframe tbody tr th {\n",
       "        vertical-align: top;\n",
       "    }\n",
       "\n",
       "    .dataframe thead th {\n",
       "        text-align: right;\n",
       "    }\n",
       "</style>\n",
       "<table border=\"1\" class=\"dataframe\">\n",
       "  <thead>\n",
       "    <tr style=\"text-align: right;\">\n",
       "      <th></th>\n",
       "      <th>code</th>\n",
       "      <th>role</th>\n",
       "      <th>glove</th>\n",
       "    </tr>\n",
       "  </thead>\n",
       "  <tbody>\n",
       "    <tr>\n",
       "      <th>0</th>\n",
       "      <td>1</td>\n",
       "      <td>Managers</td>\n",
       "      <td>[0.005505, 0.48871, 0.35066, -0.14942, 0.23206...</td>\n",
       "    </tr>\n",
       "    <tr>\n",
       "      <th>1</th>\n",
       "      <td>1</td>\n",
       "      <td>Chief Executives, Senior Officials and Legisla...</td>\n",
       "      <td>[-0.037935168, -0.03564866, 0.021365002, -0.23...</td>\n",
       "    </tr>\n",
       "    <tr>\n",
       "      <th>2</th>\n",
       "      <td>1</td>\n",
       "      <td>Legislators and Senior Officials</td>\n",
       "      <td>[-0.07460425, 0.100172006, 0.018434, -0.212082...</td>\n",
       "    </tr>\n",
       "    <tr>\n",
       "      <th>3</th>\n",
       "      <td>1</td>\n",
       "      <td>Legislators</td>\n",
       "      <td>[-0.16194, -0.34893, -0.063521, 0.033559, 0.25...</td>\n",
       "    </tr>\n",
       "    <tr>\n",
       "      <th>4</th>\n",
       "      <td>1</td>\n",
       "      <td>Senior Government Officials</td>\n",
       "      <td>[-0.04982433, 0.22908334, -0.076680005, -0.068...</td>\n",
       "    </tr>\n",
       "  </tbody>\n",
       "</table>\n",
       "</div>\n",
       "      <button class=\"colab-df-convert\" onclick=\"convertToInteractive('df-8f9635f1-6e69-47a6-9138-ff7d8b87e733')\"\n",
       "              title=\"Convert this dataframe to an interactive table.\"\n",
       "              style=\"display:none;\">\n",
       "        \n",
       "  <svg xmlns=\"http://www.w3.org/2000/svg\" height=\"24px\"viewBox=\"0 0 24 24\"\n",
       "       width=\"24px\">\n",
       "    <path d=\"M0 0h24v24H0V0z\" fill=\"none\"/>\n",
       "    <path d=\"M18.56 5.44l.94 2.06.94-2.06 2.06-.94-2.06-.94-.94-2.06-.94 2.06-2.06.94zm-11 1L8.5 8.5l.94-2.06 2.06-.94-2.06-.94L8.5 2.5l-.94 2.06-2.06.94zm10 10l.94 2.06.94-2.06 2.06-.94-2.06-.94-.94-2.06-.94 2.06-2.06.94z\"/><path d=\"M17.41 7.96l-1.37-1.37c-.4-.4-.92-.59-1.43-.59-.52 0-1.04.2-1.43.59L10.3 9.45l-7.72 7.72c-.78.78-.78 2.05 0 2.83L4 21.41c.39.39.9.59 1.41.59.51 0 1.02-.2 1.41-.59l7.78-7.78 2.81-2.81c.8-.78.8-2.07 0-2.86zM5.41 20L4 18.59l7.72-7.72 1.47 1.35L5.41 20z\"/>\n",
       "  </svg>\n",
       "      </button>\n",
       "      \n",
       "  <style>\n",
       "    .colab-df-container {\n",
       "      display:flex;\n",
       "      flex-wrap:wrap;\n",
       "      gap: 12px;\n",
       "    }\n",
       "\n",
       "    .colab-df-convert {\n",
       "      background-color: #E8F0FE;\n",
       "      border: none;\n",
       "      border-radius: 50%;\n",
       "      cursor: pointer;\n",
       "      display: none;\n",
       "      fill: #1967D2;\n",
       "      height: 32px;\n",
       "      padding: 0 0 0 0;\n",
       "      width: 32px;\n",
       "    }\n",
       "\n",
       "    .colab-df-convert:hover {\n",
       "      background-color: #E2EBFA;\n",
       "      box-shadow: 0px 1px 2px rgba(60, 64, 67, 0.3), 0px 1px 3px 1px rgba(60, 64, 67, 0.15);\n",
       "      fill: #174EA6;\n",
       "    }\n",
       "\n",
       "    [theme=dark] .colab-df-convert {\n",
       "      background-color: #3B4455;\n",
       "      fill: #D2E3FC;\n",
       "    }\n",
       "\n",
       "    [theme=dark] .colab-df-convert:hover {\n",
       "      background-color: #434B5C;\n",
       "      box-shadow: 0px 1px 3px 1px rgba(0, 0, 0, 0.15);\n",
       "      filter: drop-shadow(0px 1px 2px rgba(0, 0, 0, 0.3));\n",
       "      fill: #FFFFFF;\n",
       "    }\n",
       "  </style>\n",
       "\n",
       "      <script>\n",
       "        const buttonEl =\n",
       "          document.querySelector('#df-8f9635f1-6e69-47a6-9138-ff7d8b87e733 button.colab-df-convert');\n",
       "        buttonEl.style.display =\n",
       "          google.colab.kernel.accessAllowed ? 'block' : 'none';\n",
       "\n",
       "        async function convertToInteractive(key) {\n",
       "          const element = document.querySelector('#df-8f9635f1-6e69-47a6-9138-ff7d8b87e733');\n",
       "          const dataTable =\n",
       "            await google.colab.kernel.invokeFunction('convertToInteractive',\n",
       "                                                     [key], {});\n",
       "          if (!dataTable) return;\n",
       "\n",
       "          const docLinkHtml = 'Like what you see? Visit the ' +\n",
       "            '<a target=\"_blank\" href=https://colab.research.google.com/notebooks/data_table.ipynb>data table notebook</a>'\n",
       "            + ' to learn more about interactive tables.';\n",
       "          element.innerHTML = '';\n",
       "          dataTable['output_type'] = 'display_data';\n",
       "          await google.colab.output.renderOutput(dataTable, element);\n",
       "          const docLink = document.createElement('div');\n",
       "          docLink.innerHTML = docLinkHtml;\n",
       "          element.appendChild(docLink);\n",
       "        }\n",
       "      </script>\n",
       "    </div>\n",
       "  </div>\n",
       "  "
      ]
     },
     "metadata": {},
     "execution_count": 149
    }
   ]
  },
  {
   "cell_type": "markdown",
   "source": [
    "###SOC"
   ],
   "metadata": {
    "id": "N-hHRvgiubGZ",
    "pycharm": {
     "name": "#%% md\n"
    }
   }
  },
  {
   "cell_type": "code",
   "source": [
    "soc_glove_embeddings = [get_average_glove_embedding(post) for post in soc_roles_cleaned['Role']]"
   ],
   "metadata": {
    "id": "dpcyf1nQfSVZ",
    "pycharm": {
     "name": "#%%\n"
    }
   },
   "execution_count": null,
   "outputs": []
  },
  {
   "cell_type": "code",
   "source": [
    "soc_roles_cleaned['glove'] = soc_glove_embeddings"
   ],
   "metadata": {
    "id": "N_DkyYEmgxMH",
    "pycharm": {
     "name": "#%%\n"
    }
   },
   "execution_count": null,
   "outputs": []
  },
  {
   "cell_type": "code",
   "source": [
    "soc_roles_cleaned.head(5)"
   ],
   "metadata": {
    "colab": {
     "base_uri": "https://localhost:8080/",
     "height": 206
    },
    "id": "Y_8l5BeBg2Ho",
    "executionInfo": {
     "status": "ok",
     "timestamp": 1658369310024,
     "user_tz": 420,
     "elapsed": 145,
     "user": {
      "displayName": "Nathan Chi",
      "userId": "15298477877853561832"
     }
    },
    "outputId": "9017a992-86a8-4605-a1bb-2e24c369608f",
    "pycharm": {
     "name": "#%%\n"
    }
   },
   "execution_count": null,
   "outputs": [
    {
     "output_type": "execute_result",
     "data": {
      "text/plain": [
       "                    Major                                 Role       ID  \\\n",
       "0  Management Occupations                     Chief Executives  11-1011   \n",
       "1  Management Occupations      General and Operations Managers  11-1021   \n",
       "2  Management Occupations                          Legislators  11-1031   \n",
       "3  Management Occupations  Advertising and Promotions Managers  11-2011   \n",
       "4  Management Occupations                   Marketing Managers  11-2021   \n",
       "\n",
       "                                               glove  \n",
       "0  [0.117118, -0.22904499, 0.02496085, -0.4065799...  \n",
       "1  [-0.13163474, 0.19221124, 0.35658422, -0.46561...  \n",
       "2  [-0.16194, -0.34893, -0.063521, 0.033559, 0.25...  \n",
       "3  [0.04622025, 0.3980795, 0.27422956, -0.1241697...  \n",
       "4  [0.0650725, 0.50118, 0.23427, -0.109648496, 0....  "
      ],
      "text/html": [
       "\n",
       "  <div id=\"df-9db07d77-2cbc-4b9c-9614-44160d1f86cd\">\n",
       "    <div class=\"colab-df-container\">\n",
       "      <div>\n",
       "<style scoped>\n",
       "    .dataframe tbody tr th:only-of-type {\n",
       "        vertical-align: middle;\n",
       "    }\n",
       "\n",
       "    .dataframe tbody tr th {\n",
       "        vertical-align: top;\n",
       "    }\n",
       "\n",
       "    .dataframe thead th {\n",
       "        text-align: right;\n",
       "    }\n",
       "</style>\n",
       "<table border=\"1\" class=\"dataframe\">\n",
       "  <thead>\n",
       "    <tr style=\"text-align: right;\">\n",
       "      <th></th>\n",
       "      <th>Major</th>\n",
       "      <th>Role</th>\n",
       "      <th>ID</th>\n",
       "      <th>glove</th>\n",
       "    </tr>\n",
       "  </thead>\n",
       "  <tbody>\n",
       "    <tr>\n",
       "      <th>0</th>\n",
       "      <td>Management Occupations</td>\n",
       "      <td>Chief Executives</td>\n",
       "      <td>11-1011</td>\n",
       "      <td>[0.117118, -0.22904499, 0.02496085, -0.4065799...</td>\n",
       "    </tr>\n",
       "    <tr>\n",
       "      <th>1</th>\n",
       "      <td>Management Occupations</td>\n",
       "      <td>General and Operations Managers</td>\n",
       "      <td>11-1021</td>\n",
       "      <td>[-0.13163474, 0.19221124, 0.35658422, -0.46561...</td>\n",
       "    </tr>\n",
       "    <tr>\n",
       "      <th>2</th>\n",
       "      <td>Management Occupations</td>\n",
       "      <td>Legislators</td>\n",
       "      <td>11-1031</td>\n",
       "      <td>[-0.16194, -0.34893, -0.063521, 0.033559, 0.25...</td>\n",
       "    </tr>\n",
       "    <tr>\n",
       "      <th>3</th>\n",
       "      <td>Management Occupations</td>\n",
       "      <td>Advertising and Promotions Managers</td>\n",
       "      <td>11-2011</td>\n",
       "      <td>[0.04622025, 0.3980795, 0.27422956, -0.1241697...</td>\n",
       "    </tr>\n",
       "    <tr>\n",
       "      <th>4</th>\n",
       "      <td>Management Occupations</td>\n",
       "      <td>Marketing Managers</td>\n",
       "      <td>11-2021</td>\n",
       "      <td>[0.0650725, 0.50118, 0.23427, -0.109648496, 0....</td>\n",
       "    </tr>\n",
       "  </tbody>\n",
       "</table>\n",
       "</div>\n",
       "      <button class=\"colab-df-convert\" onclick=\"convertToInteractive('df-9db07d77-2cbc-4b9c-9614-44160d1f86cd')\"\n",
       "              title=\"Convert this dataframe to an interactive table.\"\n",
       "              style=\"display:none;\">\n",
       "        \n",
       "  <svg xmlns=\"http://www.w3.org/2000/svg\" height=\"24px\"viewBox=\"0 0 24 24\"\n",
       "       width=\"24px\">\n",
       "    <path d=\"M0 0h24v24H0V0z\" fill=\"none\"/>\n",
       "    <path d=\"M18.56 5.44l.94 2.06.94-2.06 2.06-.94-2.06-.94-.94-2.06-.94 2.06-2.06.94zm-11 1L8.5 8.5l.94-2.06 2.06-.94-2.06-.94L8.5 2.5l-.94 2.06-2.06.94zm10 10l.94 2.06.94-2.06 2.06-.94-2.06-.94-.94-2.06-.94 2.06-2.06.94z\"/><path d=\"M17.41 7.96l-1.37-1.37c-.4-.4-.92-.59-1.43-.59-.52 0-1.04.2-1.43.59L10.3 9.45l-7.72 7.72c-.78.78-.78 2.05 0 2.83L4 21.41c.39.39.9.59 1.41.59.51 0 1.02-.2 1.41-.59l7.78-7.78 2.81-2.81c.8-.78.8-2.07 0-2.86zM5.41 20L4 18.59l7.72-7.72 1.47 1.35L5.41 20z\"/>\n",
       "  </svg>\n",
       "      </button>\n",
       "      \n",
       "  <style>\n",
       "    .colab-df-container {\n",
       "      display:flex;\n",
       "      flex-wrap:wrap;\n",
       "      gap: 12px;\n",
       "    }\n",
       "\n",
       "    .colab-df-convert {\n",
       "      background-color: #E8F0FE;\n",
       "      border: none;\n",
       "      border-radius: 50%;\n",
       "      cursor: pointer;\n",
       "      display: none;\n",
       "      fill: #1967D2;\n",
       "      height: 32px;\n",
       "      padding: 0 0 0 0;\n",
       "      width: 32px;\n",
       "    }\n",
       "\n",
       "    .colab-df-convert:hover {\n",
       "      background-color: #E2EBFA;\n",
       "      box-shadow: 0px 1px 2px rgba(60, 64, 67, 0.3), 0px 1px 3px 1px rgba(60, 64, 67, 0.15);\n",
       "      fill: #174EA6;\n",
       "    }\n",
       "\n",
       "    [theme=dark] .colab-df-convert {\n",
       "      background-color: #3B4455;\n",
       "      fill: #D2E3FC;\n",
       "    }\n",
       "\n",
       "    [theme=dark] .colab-df-convert:hover {\n",
       "      background-color: #434B5C;\n",
       "      box-shadow: 0px 1px 3px 1px rgba(0, 0, 0, 0.15);\n",
       "      filter: drop-shadow(0px 1px 2px rgba(0, 0, 0, 0.3));\n",
       "      fill: #FFFFFF;\n",
       "    }\n",
       "  </style>\n",
       "\n",
       "      <script>\n",
       "        const buttonEl =\n",
       "          document.querySelector('#df-9db07d77-2cbc-4b9c-9614-44160d1f86cd button.colab-df-convert');\n",
       "        buttonEl.style.display =\n",
       "          google.colab.kernel.accessAllowed ? 'block' : 'none';\n",
       "\n",
       "        async function convertToInteractive(key) {\n",
       "          const element = document.querySelector('#df-9db07d77-2cbc-4b9c-9614-44160d1f86cd');\n",
       "          const dataTable =\n",
       "            await google.colab.kernel.invokeFunction('convertToInteractive',\n",
       "                                                     [key], {});\n",
       "          if (!dataTable) return;\n",
       "\n",
       "          const docLinkHtml = 'Like what you see? Visit the ' +\n",
       "            '<a target=\"_blank\" href=https://colab.research.google.com/notebooks/data_table.ipynb>data table notebook</a>'\n",
       "            + ' to learn more about interactive tables.';\n",
       "          element.innerHTML = '';\n",
       "          dataTable['output_type'] = 'display_data';\n",
       "          await google.colab.output.renderOutput(dataTable, element);\n",
       "          const docLink = document.createElement('div');\n",
       "          docLink.innerHTML = docLinkHtml;\n",
       "          element.appendChild(docLink);\n",
       "        }\n",
       "      </script>\n",
       "    </div>\n",
       "  </div>\n",
       "  "
      ]
     },
     "metadata": {},
     "execution_count": 25
    }
   ]
  },
  {
   "cell_type": "code",
   "source": [
    "major_occupations = list(sorted(set(soc_roles_cleaned['Major'])))"
   ],
   "metadata": {
    "id": "_sDainANhOPF",
    "pycharm": {
     "name": "#%%\n"
    }
   },
   "execution_count": null,
   "outputs": []
  },
  {
   "cell_type": "code",
   "source": [
    "major_occupations"
   ],
   "metadata": {
    "colab": {
     "base_uri": "https://localhost:8080/"
    },
    "id": "Ce5k-DYxh0m-",
    "executionInfo": {
     "status": "ok",
     "timestamp": 1658369697081,
     "user_tz": 420,
     "elapsed": 154,
     "user": {
      "displayName": "Nathan Chi",
      "userId": "15298477877853561832"
     }
    },
    "outputId": "1f8a5b59-f7cd-4e1a-a267-c5c27132b838",
    "pycharm": {
     "name": "#%%\n"
    }
   },
   "execution_count": null,
   "outputs": [
    {
     "output_type": "execute_result",
     "data": {
      "text/plain": [
       "['Architecture and Engineering Occupations',\n",
       " 'Arts, Design, Entertainment, Sports, and Media Occupations',\n",
       " 'Building and Grounds Cleaning and Maintenance Occupations',\n",
       " 'Business and Financial Operations Occupations',\n",
       " 'Community and Social Service Occupations',\n",
       " 'Computer and Mathematical Occupations',\n",
       " 'Construction and Extraction Occupations',\n",
       " 'Educational Instruction and Library Occupations',\n",
       " 'Farming, Fishing, and Forestry Occupations',\n",
       " 'Food Preparation and Serving Related Occupations',\n",
       " 'Healthcare Practitioners and Technical Occupations',\n",
       " 'Healthcare Support Occupations',\n",
       " 'Installation, Maintenance, and Repair Occupations',\n",
       " 'Legal Occupations',\n",
       " 'Life, Physical, and Social Science Occupations',\n",
       " 'Management Occupations',\n",
       " 'Military Specific Occupations',\n",
       " 'Office and Administrative Support Occupations',\n",
       " 'Personal Care and Service Occupations',\n",
       " 'Production Occupations',\n",
       " 'Protective Service Occupations',\n",
       " 'Sales and Related Occupations',\n",
       " 'Transportation and Material Moving Occupations']"
      ]
     },
     "metadata": {},
     "execution_count": 33
    }
   ]
  },
  {
   "cell_type": "code",
   "source": [
    "len(major_occupations)"
   ],
   "metadata": {
    "colab": {
     "base_uri": "https://localhost:8080/"
    },
    "id": "QCUlnwnpiakj",
    "executionInfo": {
     "status": "ok",
     "timestamp": 1658369717250,
     "user_tz": 420,
     "elapsed": 141,
     "user": {
      "displayName": "Nathan Chi",
      "userId": "15298477877853561832"
     }
    },
    "outputId": "ece56264-1da8-4a28-b038-4000a64ce3d9",
    "pycharm": {
     "name": "#%%\n"
    }
   },
   "execution_count": null,
   "outputs": [
    {
     "output_type": "execute_result",
     "data": {
      "text/plain": [
       "23"
      ]
     },
     "metadata": {},
     "execution_count": 38
    }
   ]
  },
  {
   "cell_type": "code",
   "source": [
    "def convert(lst):\n",
    "    res_dct = {lst[i]: i for i in range(0, len(lst))}\n",
    "    return res_dct"
   ],
   "metadata": {
    "id": "0_VNsHX4Isho",
    "pycharm": {
     "name": "#%%\n"
    }
   },
   "execution_count": null,
   "outputs": []
  },
  {
   "cell_type": "code",
   "source": [
    "occupations_dict = convert(major_occupations)"
   ],
   "metadata": {
    "id": "R2iOIO2sI9IH",
    "pycharm": {
     "name": "#%%\n"
    }
   },
   "execution_count": null,
   "outputs": []
  },
  {
   "cell_type": "code",
   "source": [
    "occupations_as_nums = [occupations_dict[x] for x in soc_roles_cleaned['Major']]"
   ],
   "metadata": {
    "id": "SRQkgrW9iEV6",
    "pycharm": {
     "name": "#%%\n"
    }
   },
   "execution_count": null,
   "outputs": []
  },
  {
   "cell_type": "code",
   "source": [
    "soc_roles_cleaned['major_nums'] = occupations_as_nums"
   ],
   "metadata": {
    "id": "fhUBpvtNiZJ2",
    "pycharm": {
     "name": "#%%\n"
    }
   },
   "execution_count": null,
   "outputs": []
  },
  {
   "cell_type": "code",
   "source": [
    "soc_roles_cleaned.insert(1, 'major_nums', soc_roles_cleaned.pop('major_nums'))\n",
    "soc_roles_cleaned"
   ],
   "metadata": {
    "colab": {
     "base_uri": "https://localhost:8080/",
     "height": 424
    },
    "id": "vccye4fcipVh",
    "executionInfo": {
     "status": "ok",
     "timestamp": 1658369816805,
     "user_tz": 420,
     "elapsed": 152,
     "user": {
      "displayName": "Nathan Chi",
      "userId": "15298477877853561832"
     }
    },
    "outputId": "d2023646-9707-4762-d290-c2a921b07a48",
    "pycharm": {
     "name": "#%%\n"
    }
   },
   "execution_count": null,
   "outputs": [
    {
     "output_type": "execute_result",
     "data": {
      "text/plain": [
       "                             Major  major_nums  \\\n",
       "0           Management Occupations          15   \n",
       "1           Management Occupations          15   \n",
       "2           Management Occupations          15   \n",
       "3           Management Occupations          15   \n",
       "4           Management Occupations          15   \n",
       "..                             ...         ...   \n",
       "862  Military Specific Occupations          16   \n",
       "863  Military Specific Occupations          16   \n",
       "864  Military Specific Occupations          16   \n",
       "865  Military Specific Occupations          16   \n",
       "866  Military Specific Occupations          16   \n",
       "\n",
       "                                                  Role       ID  \\\n",
       "0                                     Chief Executives  11-1011   \n",
       "1                      General and Operations Managers  11-1021   \n",
       "2                                          Legislators  11-1031   \n",
       "3                  Advertising and Promotions Managers  11-2011   \n",
       "4                                   Marketing Managers  11-2021   \n",
       "..                                                 ...      ...   \n",
       "862                 Artillery and Missile Crew Members  55-3014   \n",
       "863             Command and Control Center Specialists  55-3015   \n",
       "864                                           Infantry  55-3016   \n",
       "865                                     Special Forces  55-3018   \n",
       "866  Military Enlisted Tactical Operations and Air/...  55-3019   \n",
       "\n",
       "                                                 glove  \n",
       "0    [0.117118, -0.22904499, 0.02496085, -0.4065799...  \n",
       "1    [-0.13163474, 0.19221124, 0.35658422, -0.46561...  \n",
       "2    [-0.16194, -0.34893, -0.063521, 0.033559, 0.25...  \n",
       "3    [0.04622025, 0.3980795, 0.27422956, -0.1241697...  \n",
       "4    [0.0650725, 0.50118, 0.23427, -0.109648496, 0....  \n",
       "..                                                 ...  \n",
       "862  [-0.1585248, 0.1550436, 0.082463495, -0.312161...  \n",
       "863  [0.060831208, -0.026549792, 0.23401363, -0.193...  \n",
       "864  [-0.4615, 0.10704, -0.19839, -0.27378, -0.9027...  \n",
       "865  [-0.37901998, 0.1643, 0.238468, 0.041729998, -...  \n",
       "866  [-0.050557416, 0.192813, 0.14676246, -0.220606...  \n",
       "\n",
       "[867 rows x 5 columns]"
      ],
      "text/html": [
       "\n",
       "  <div id=\"df-9b2a5660-df26-475f-8b1f-bf9232821e40\">\n",
       "    <div class=\"colab-df-container\">\n",
       "      <div>\n",
       "<style scoped>\n",
       "    .dataframe tbody tr th:only-of-type {\n",
       "        vertical-align: middle;\n",
       "    }\n",
       "\n",
       "    .dataframe tbody tr th {\n",
       "        vertical-align: top;\n",
       "    }\n",
       "\n",
       "    .dataframe thead th {\n",
       "        text-align: right;\n",
       "    }\n",
       "</style>\n",
       "<table border=\"1\" class=\"dataframe\">\n",
       "  <thead>\n",
       "    <tr style=\"text-align: right;\">\n",
       "      <th></th>\n",
       "      <th>Major</th>\n",
       "      <th>major_nums</th>\n",
       "      <th>Role</th>\n",
       "      <th>ID</th>\n",
       "      <th>glove</th>\n",
       "    </tr>\n",
       "  </thead>\n",
       "  <tbody>\n",
       "    <tr>\n",
       "      <th>0</th>\n",
       "      <td>Management Occupations</td>\n",
       "      <td>15</td>\n",
       "      <td>Chief Executives</td>\n",
       "      <td>11-1011</td>\n",
       "      <td>[0.117118, -0.22904499, 0.02496085, -0.4065799...</td>\n",
       "    </tr>\n",
       "    <tr>\n",
       "      <th>1</th>\n",
       "      <td>Management Occupations</td>\n",
       "      <td>15</td>\n",
       "      <td>General and Operations Managers</td>\n",
       "      <td>11-1021</td>\n",
       "      <td>[-0.13163474, 0.19221124, 0.35658422, -0.46561...</td>\n",
       "    </tr>\n",
       "    <tr>\n",
       "      <th>2</th>\n",
       "      <td>Management Occupations</td>\n",
       "      <td>15</td>\n",
       "      <td>Legislators</td>\n",
       "      <td>11-1031</td>\n",
       "      <td>[-0.16194, -0.34893, -0.063521, 0.033559, 0.25...</td>\n",
       "    </tr>\n",
       "    <tr>\n",
       "      <th>3</th>\n",
       "      <td>Management Occupations</td>\n",
       "      <td>15</td>\n",
       "      <td>Advertising and Promotions Managers</td>\n",
       "      <td>11-2011</td>\n",
       "      <td>[0.04622025, 0.3980795, 0.27422956, -0.1241697...</td>\n",
       "    </tr>\n",
       "    <tr>\n",
       "      <th>4</th>\n",
       "      <td>Management Occupations</td>\n",
       "      <td>15</td>\n",
       "      <td>Marketing Managers</td>\n",
       "      <td>11-2021</td>\n",
       "      <td>[0.0650725, 0.50118, 0.23427, -0.109648496, 0....</td>\n",
       "    </tr>\n",
       "    <tr>\n",
       "      <th>...</th>\n",
       "      <td>...</td>\n",
       "      <td>...</td>\n",
       "      <td>...</td>\n",
       "      <td>...</td>\n",
       "      <td>...</td>\n",
       "    </tr>\n",
       "    <tr>\n",
       "      <th>862</th>\n",
       "      <td>Military Specific Occupations</td>\n",
       "      <td>16</td>\n",
       "      <td>Artillery and Missile Crew Members</td>\n",
       "      <td>55-3014</td>\n",
       "      <td>[-0.1585248, 0.1550436, 0.082463495, -0.312161...</td>\n",
       "    </tr>\n",
       "    <tr>\n",
       "      <th>863</th>\n",
       "      <td>Military Specific Occupations</td>\n",
       "      <td>16</td>\n",
       "      <td>Command and Control Center Specialists</td>\n",
       "      <td>55-3015</td>\n",
       "      <td>[0.060831208, -0.026549792, 0.23401363, -0.193...</td>\n",
       "    </tr>\n",
       "    <tr>\n",
       "      <th>864</th>\n",
       "      <td>Military Specific Occupations</td>\n",
       "      <td>16</td>\n",
       "      <td>Infantry</td>\n",
       "      <td>55-3016</td>\n",
       "      <td>[-0.4615, 0.10704, -0.19839, -0.27378, -0.9027...</td>\n",
       "    </tr>\n",
       "    <tr>\n",
       "      <th>865</th>\n",
       "      <td>Military Specific Occupations</td>\n",
       "      <td>16</td>\n",
       "      <td>Special Forces</td>\n",
       "      <td>55-3018</td>\n",
       "      <td>[-0.37901998, 0.1643, 0.238468, 0.041729998, -...</td>\n",
       "    </tr>\n",
       "    <tr>\n",
       "      <th>866</th>\n",
       "      <td>Military Specific Occupations</td>\n",
       "      <td>16</td>\n",
       "      <td>Military Enlisted Tactical Operations and Air/...</td>\n",
       "      <td>55-3019</td>\n",
       "      <td>[-0.050557416, 0.192813, 0.14676246, -0.220606...</td>\n",
       "    </tr>\n",
       "  </tbody>\n",
       "</table>\n",
       "<p>867 rows × 5 columns</p>\n",
       "</div>\n",
       "      <button class=\"colab-df-convert\" onclick=\"convertToInteractive('df-9b2a5660-df26-475f-8b1f-bf9232821e40')\"\n",
       "              title=\"Convert this dataframe to an interactive table.\"\n",
       "              style=\"display:none;\">\n",
       "        \n",
       "  <svg xmlns=\"http://www.w3.org/2000/svg\" height=\"24px\"viewBox=\"0 0 24 24\"\n",
       "       width=\"24px\">\n",
       "    <path d=\"M0 0h24v24H0V0z\" fill=\"none\"/>\n",
       "    <path d=\"M18.56 5.44l.94 2.06.94-2.06 2.06-.94-2.06-.94-.94-2.06-.94 2.06-2.06.94zm-11 1L8.5 8.5l.94-2.06 2.06-.94-2.06-.94L8.5 2.5l-.94 2.06-2.06.94zm10 10l.94 2.06.94-2.06 2.06-.94-2.06-.94-.94-2.06-.94 2.06-2.06.94z\"/><path d=\"M17.41 7.96l-1.37-1.37c-.4-.4-.92-.59-1.43-.59-.52 0-1.04.2-1.43.59L10.3 9.45l-7.72 7.72c-.78.78-.78 2.05 0 2.83L4 21.41c.39.39.9.59 1.41.59.51 0 1.02-.2 1.41-.59l7.78-7.78 2.81-2.81c.8-.78.8-2.07 0-2.86zM5.41 20L4 18.59l7.72-7.72 1.47 1.35L5.41 20z\"/>\n",
       "  </svg>\n",
       "      </button>\n",
       "      \n",
       "  <style>\n",
       "    .colab-df-container {\n",
       "      display:flex;\n",
       "      flex-wrap:wrap;\n",
       "      gap: 12px;\n",
       "    }\n",
       "\n",
       "    .colab-df-convert {\n",
       "      background-color: #E8F0FE;\n",
       "      border: none;\n",
       "      border-radius: 50%;\n",
       "      cursor: pointer;\n",
       "      display: none;\n",
       "      fill: #1967D2;\n",
       "      height: 32px;\n",
       "      padding: 0 0 0 0;\n",
       "      width: 32px;\n",
       "    }\n",
       "\n",
       "    .colab-df-convert:hover {\n",
       "      background-color: #E2EBFA;\n",
       "      box-shadow: 0px 1px 2px rgba(60, 64, 67, 0.3), 0px 1px 3px 1px rgba(60, 64, 67, 0.15);\n",
       "      fill: #174EA6;\n",
       "    }\n",
       "\n",
       "    [theme=dark] .colab-df-convert {\n",
       "      background-color: #3B4455;\n",
       "      fill: #D2E3FC;\n",
       "    }\n",
       "\n",
       "    [theme=dark] .colab-df-convert:hover {\n",
       "      background-color: #434B5C;\n",
       "      box-shadow: 0px 1px 3px 1px rgba(0, 0, 0, 0.15);\n",
       "      filter: drop-shadow(0px 1px 2px rgba(0, 0, 0, 0.3));\n",
       "      fill: #FFFFFF;\n",
       "    }\n",
       "  </style>\n",
       "\n",
       "      <script>\n",
       "        const buttonEl =\n",
       "          document.querySelector('#df-9b2a5660-df26-475f-8b1f-bf9232821e40 button.colab-df-convert');\n",
       "        buttonEl.style.display =\n",
       "          google.colab.kernel.accessAllowed ? 'block' : 'none';\n",
       "\n",
       "        async function convertToInteractive(key) {\n",
       "          const element = document.querySelector('#df-9b2a5660-df26-475f-8b1f-bf9232821e40');\n",
       "          const dataTable =\n",
       "            await google.colab.kernel.invokeFunction('convertToInteractive',\n",
       "                                                     [key], {});\n",
       "          if (!dataTable) return;\n",
       "\n",
       "          const docLinkHtml = 'Like what you see? Visit the ' +\n",
       "            '<a target=\"_blank\" href=https://colab.research.google.com/notebooks/data_table.ipynb>data table notebook</a>'\n",
       "            + ' to learn more about interactive tables.';\n",
       "          element.innerHTML = '';\n",
       "          dataTable['output_type'] = 'display_data';\n",
       "          await google.colab.output.renderOutput(dataTable, element);\n",
       "          const docLink = document.createElement('div');\n",
       "          docLink.innerHTML = docLinkHtml;\n",
       "          element.appendChild(docLink);\n",
       "        }\n",
       "      </script>\n",
       "    </div>\n",
       "  </div>\n",
       "  "
      ]
     },
     "metadata": {},
     "execution_count": 42
    }
   ]
  },
  {
   "cell_type": "markdown",
   "source": [
    "###Classifiers"
   ],
   "metadata": {
    "id": "XSiHqITIg5lg",
    "pycharm": {
     "name": "#%% md\n"
    }
   }
  },
  {
   "cell_type": "code",
   "source": [
    "from sklearn.linear_model import LinearRegression, LogisticRegression\n",
    "from sklearn.metrics import plot_confusion_matrix, precision_recall_fscore_support, classification_report\n",
    "from sklearn.model_selection import train_test_split\n",
    "from sklearn.neural_network import MLPClassifier\n",
    "from sklearn.neighbors import KNeighborsClassifier\n",
    "from sklearn.svm import SVC\n",
    "from sklearn.gaussian_process import GaussianProcessClassifier\n",
    "from sklearn.gaussian_process.kernels import RBF\n",
    "from sklearn.tree import DecisionTreeClassifier\n",
    "from sklearn.ensemble import RandomForestClassifier, AdaBoostClassifier, VotingClassifier\n",
    "from sklearn.naive_bayes import GaussianNB\n",
    "from sklearn.discriminant_analysis import QuadraticDiscriminantAnalysis"
   ],
   "metadata": {
    "id": "mF3FMsF5g3tG",
    "pycharm": {
     "name": "#%%\n"
    }
   },
   "execution_count": null,
   "outputs": []
  },
  {
   "cell_type": "code",
   "source": [
    "# train_data, dev_data, train_y, dev_y = train_test_split(soc_roles_cleaned['glove'], soc_roles_cleaned['major_nums'], test_size=0.1, random_state=42)\n",
    "train_data, dev_data, train_y, dev_y = train_test_split(isco['glove'], isco['code'], test_size=0.2, random_state=40)"
   ],
   "metadata": {
    "id": "0q52FZSGhFin",
    "pycharm": {
     "name": "#%%\n"
    }
   },
   "execution_count": null,
   "outputs": []
  },
  {
   "cell_type": "code",
   "source": [
    "train_data = list(train_data)\n",
    "dev_data = list(dev_data)"
   ],
   "metadata": {
    "id": "LmTFwLjzi8hm",
    "pycharm": {
     "name": "#%%\n"
    }
   },
   "execution_count": null,
   "outputs": []
  },
  {
   "cell_type": "code",
   "source": [
    "train_y = list(train_y)\n",
    "dev_y = list(dev_y)"
   ],
   "metadata": {
    "id": "4Mqj1L6qjFWO",
    "pycharm": {
     "name": "#%%\n"
    }
   },
   "execution_count": null,
   "outputs": []
  },
  {
   "cell_type": "code",
   "source": [
    "def eval(model):\n",
    "    model.fit(train_data, train_y)\n",
    "    train_y_pred = model.predict(train_data)\n",
    "\n",
    "    # print(np.mean(train_y_pred))\n",
    "    print(classification_report(train_y, train_y_pred))\n",
    "    dev_y_pred = model.predict(dev_data)\n",
    "    print(classification_report(dev_y, dev_y_pred))"
   ],
   "metadata": {
    "id": "tmmftO-FkDOC",
    "pycharm": {
     "name": "#%%\n"
    }
   },
   "execution_count": null,
   "outputs": []
  },
  {
   "cell_type": "code",
   "source": [
    "lr = LogisticRegression(max_iter=100000, solver='liblinear')\n",
    "eval(model = lr)"
   ],
   "metadata": {
    "colab": {
     "base_uri": "https://localhost:8080/"
    },
    "id": "plOIleX8g-m4",
    "executionInfo": {
     "status": "ok",
     "timestamp": 1658373508383,
     "user_tz": 420,
     "elapsed": 476,
     "user": {
      "displayName": "Nathan Chi",
      "userId": "15298477877853561832"
     }
    },
    "outputId": "628a4d68-2021-450e-f410-4dbd7b348758",
    "pycharm": {
     "name": "#%%\n"
    }
   },
   "execution_count": null,
   "outputs": [
    {
     "output_type": "stream",
     "name": "stdout",
     "text": [
      "              precision    recall  f1-score   support\n",
      "\n",
      "           0       1.00      1.00      1.00         7\n",
      "           1       1.00      1.00      1.00        36\n",
      "           2       0.97      1.00      0.99       102\n",
      "           3       0.98      0.94      0.96        84\n",
      "           4       0.97      0.94      0.96        35\n",
      "           5       0.96      0.94      0.95        50\n",
      "           6       1.00      0.95      0.98        22\n",
      "           7       0.91      0.96      0.93        73\n",
      "           8       0.92      0.94      0.93        48\n",
      "           9       1.00      0.95      0.97        38\n",
      "\n",
      "    accuracy                           0.96       495\n",
      "   macro avg       0.97      0.96      0.97       495\n",
      "weighted avg       0.96      0.96      0.96       495\n",
      "\n",
      "              precision    recall  f1-score   support\n",
      "\n",
      "           0       1.00      1.00      1.00         3\n",
      "           1       1.00      1.00      1.00        11\n",
      "           2       0.89      1.00      0.94        24\n",
      "           3       0.95      0.77      0.85        26\n",
      "           4       0.86      0.86      0.86         7\n",
      "           5       0.67      0.75      0.71         8\n",
      "           6       1.00      0.89      0.94         9\n",
      "           7       0.75      0.92      0.83        13\n",
      "           8       0.64      0.70      0.67        10\n",
      "           9       0.91      0.77      0.83        13\n",
      "\n",
      "    accuracy                           0.86       124\n",
      "   macro avg       0.87      0.87      0.86       124\n",
      "weighted avg       0.87      0.86      0.86       124\n",
      "\n"
     ]
    }
   ]
  },
  {
   "cell_type": "markdown",
   "source": [
    "BEST MODEL"
   ],
   "metadata": {
    "id": "ptkSZO6XyKBo",
    "pycharm": {
     "name": "#%% md\n"
    }
   }
  },
  {
   "cell_type": "code",
   "source": [
    "mlp = MLPClassifier(hidden_layer_sizes=(300, 300), alpha=1e-2)\n",
    "eval(model = mlp)"
   ],
   "metadata": {
    "colab": {
     "base_uri": "https://localhost:8080/"
    },
    "id": "Zjt8AkHpkjVw",
    "executionInfo": {
     "status": "ok",
     "timestamp": 1658373779574,
     "user_tz": 420,
     "elapsed": 3201,
     "user": {
      "displayName": "Nathan Chi",
      "userId": "15298477877853561832"
     }
    },
    "outputId": "48088e5e-4a8c-4bde-cb13-4c862dbf3ad5",
    "pycharm": {
     "name": "#%%\n"
    }
   },
   "execution_count": null,
   "outputs": [
    {
     "output_type": "stream",
     "name": "stdout",
     "text": [
      "              precision    recall  f1-score   support\n",
      "\n",
      "           0       1.00      1.00      1.00         7\n",
      "           1       1.00      1.00      1.00        36\n",
      "           2       0.99      1.00      1.00       102\n",
      "           3       1.00      0.99      0.99        84\n",
      "           4       1.00      1.00      1.00        35\n",
      "           5       1.00      0.98      0.99        50\n",
      "           6       1.00      1.00      1.00        22\n",
      "           7       0.99      1.00      0.99        73\n",
      "           8       1.00      1.00      1.00        48\n",
      "           9       1.00      1.00      1.00        38\n",
      "\n",
      "    accuracy                           1.00       495\n",
      "   macro avg       1.00      1.00      1.00       495\n",
      "weighted avg       1.00      1.00      1.00       495\n",
      "\n",
      "              precision    recall  f1-score   support\n",
      "\n",
      "           0       1.00      1.00      1.00         3\n",
      "           1       1.00      1.00      1.00        11\n",
      "           2       0.92      0.96      0.94        24\n",
      "           3       0.91      0.81      0.86        26\n",
      "           4       1.00      1.00      1.00         7\n",
      "           5       0.78      0.88      0.82         8\n",
      "           6       1.00      1.00      1.00         9\n",
      "           7       0.81      1.00      0.90        13\n",
      "           8       0.80      0.80      0.80        10\n",
      "           9       1.00      0.85      0.92        13\n",
      "\n",
      "    accuracy                           0.91       124\n",
      "   macro avg       0.92      0.93      0.92       124\n",
      "weighted avg       0.92      0.91      0.91       124\n",
      "\n"
     ]
    }
   ]
  },
  {
   "cell_type": "code",
   "source": [
    "plot_confusion_matrix(mlp, dev_data, dev_y)"
   ],
   "metadata": {
    "colab": {
     "base_uri": "https://localhost:8080/",
     "height": 353
    },
    "id": "1u8iFNHkmLR-",
    "executionInfo": {
     "status": "ok",
     "timestamp": 1658373782402,
     "user_tz": 420,
     "elapsed": 574,
     "user": {
      "displayName": "Nathan Chi",
      "userId": "15298477877853561832"
     }
    },
    "outputId": "ca2df208-1fa3-4bd3-88b0-613f19b9a324",
    "pycharm": {
     "name": "#%%\n"
    }
   },
   "execution_count": null,
   "outputs": [
    {
     "output_type": "stream",
     "name": "stderr",
     "text": [
      "/usr/local/lib/python3.7/dist-packages/sklearn/utils/deprecation.py:87: FutureWarning: Function plot_confusion_matrix is deprecated; Function `plot_confusion_matrix` is deprecated in 1.0 and will be removed in 1.2. Use one of the class methods: ConfusionMatrixDisplay.from_predictions or ConfusionMatrixDisplay.from_estimator.\n",
      "  warnings.warn(msg, category=FutureWarning)\n"
     ]
    },
    {
     "output_type": "execute_result",
     "data": {
      "text/plain": [
       "<sklearn.metrics._plot.confusion_matrix.ConfusionMatrixDisplay at 0x7faf792e9590>"
      ]
     },
     "metadata": {},
     "execution_count": 216
    },
    {
     "output_type": "display_data",
     "data": {
      "text/plain": [
       "<Figure size 432x288 with 2 Axes>"
      ],
      "image/png": "[encoded data removed]"
     },
     "metadata": {
      "needs_background": "light"
     }
    }
   ]
  },
  {
   "cell_type": "code",
   "source": [
    "import pickle\n",
    "\n",
    "# save\n",
    "with open('mlp_isoc.pkl','wb') as f:\n",
    "    pickle.dump(mlp,f)"
   ],
   "metadata": {
    "id": "Kq6zjX9vyn-z",
    "pycharm": {
     "name": "#%%\n"
    }
   },
   "execution_count": null,
   "outputs": []
  },
  {
   "cell_type": "code",
   "source": [
    "# load\n",
    "with open('mlp_isoc.pkl', 'rb') as f:\n",
    "    mlp = pickle.load(f)"
   ],
   "metadata": {
    "id": "15OKGiJAy6aI",
    "pycharm": {
     "name": "#%%\n"
    }
   },
   "execution_count": null,
   "outputs": []
  },
  {
   "cell_type": "code",
   "source": [
    "eval(model = GaussianNB())"
   ],
   "metadata": {
    "colab": {
     "base_uri": "https://localhost:8080/"
    },
    "id": "wCrGdy5NlsD1",
    "executionInfo": {
     "status": "ok",
     "timestamp": 1658373029189,
     "user_tz": 420,
     "elapsed": 140,
     "user": {
      "displayName": "Nathan Chi",
      "userId": "15298477877853561832"
     }
    },
    "outputId": "c5cbe2a1-a2b9-4130-f089-13cb7d5dfb57",
    "pycharm": {
     "name": "#%%\n"
    }
   },
   "execution_count": null,
   "outputs": [
    {
     "output_type": "stream",
     "name": "stdout",
     "text": [
      "              precision    recall  f1-score   support\n",
      "\n",
      "           0       1.00      1.00      1.00        10\n",
      "           1       0.76      0.91      0.83        43\n",
      "           2       0.86      0.66      0.75       112\n",
      "           3       0.73      0.77      0.75        97\n",
      "           4       0.92      0.90      0.91        39\n",
      "           5       0.83      0.68      0.75        50\n",
      "           6       0.76      0.93      0.84        28\n",
      "           7       0.63      0.85      0.72        79\n",
      "           8       0.86      0.91      0.88        54\n",
      "           9       0.81      0.56      0.66        45\n",
      "\n",
      "    accuracy                           0.78       557\n",
      "   macro avg       0.82      0.82      0.81       557\n",
      "weighted avg       0.79      0.78      0.78       557\n",
      "\n",
      "              precision    recall  f1-score   support\n",
      "\n",
      "           1       0.67      1.00      0.80         4\n",
      "           2       0.78      0.50      0.61        14\n",
      "           3       0.60      0.69      0.64        13\n",
      "           4       1.00      0.33      0.50         3\n",
      "           5       0.50      0.50      0.50         8\n",
      "           6       1.00      0.33      0.50         3\n",
      "           7       0.42      0.71      0.53         7\n",
      "           8       1.00      1.00      1.00         4\n",
      "           9       0.83      0.83      0.83         6\n",
      "\n",
      "    accuracy                           0.65        62\n",
      "   macro avg       0.75      0.66      0.66        62\n",
      "weighted avg       0.70      0.65      0.64        62\n",
      "\n"
     ]
    }
   ]
  },
  {
   "cell_type": "code",
   "source": [
    "vc = VotingClassifier(estimators=[('f1', lr), ('f2', mlp)], voting='soft')\n",
    "eval(model = vc)"
   ],
   "metadata": {
    "colab": {
     "base_uri": "https://localhost:8080/"
    },
    "id": "Q6CPSDHrk8Q9",
    "executionInfo": {
     "status": "ok",
     "timestamp": 1658373039235,
     "user_tz": 420,
     "elapsed": 6790,
     "user": {
      "displayName": "Nathan Chi",
      "userId": "15298477877853561832"
     }
    },
    "outputId": "d168f702-6f04-4d21-8b97-640beeb84cb5",
    "pycharm": {
     "name": "#%%\n"
    }
   },
   "execution_count": null,
   "outputs": [
    {
     "output_type": "stream",
     "name": "stdout",
     "text": [
      "              precision    recall  f1-score   support\n",
      "\n",
      "           0       1.00      1.00      1.00        10\n",
      "           1       1.00      1.00      1.00        43\n",
      "           2       0.99      1.00      1.00       112\n",
      "           3       1.00      0.99      0.99        97\n",
      "           4       1.00      1.00      1.00        39\n",
      "           5       1.00      1.00      1.00        50\n",
      "           6       1.00      1.00      1.00        28\n",
      "           7       1.00      1.00      1.00        79\n",
      "           8       1.00      1.00      1.00        54\n",
      "           9       1.00      1.00      1.00        45\n",
      "\n",
      "    accuracy                           1.00       557\n",
      "   macro avg       1.00      1.00      1.00       557\n",
      "weighted avg       1.00      1.00      1.00       557\n",
      "\n",
      "              precision    recall  f1-score   support\n",
      "\n",
      "           1       1.00      1.00      1.00         4\n",
      "           2       0.81      0.93      0.87        14\n",
      "           3       1.00      0.69      0.82        13\n",
      "           4       1.00      0.33      0.50         3\n",
      "           5       0.78      0.88      0.82         8\n",
      "           6       1.00      0.67      0.80         3\n",
      "           7       0.60      0.86      0.71         7\n",
      "           8       1.00      1.00      1.00         4\n",
      "           9       0.86      1.00      0.92         6\n",
      "\n",
      "    accuracy                           0.84        62\n",
      "   macro avg       0.89      0.82      0.83        62\n",
      "weighted avg       0.87      0.84      0.83        62\n",
      "\n"
     ]
    }
   ]
  },
  {
   "cell_type": "code",
   "source": [
    "eval(AdaBoostClassifier())"
   ],
   "metadata": {
    "colab": {
     "base_uri": "https://localhost:8080/"
    },
    "id": "ejdBgorjkqS-",
    "executionInfo": {
     "status": "ok",
     "timestamp": 1658370341386,
     "user_tz": 420,
     "elapsed": 1425,
     "user": {
      "displayName": "Nathan Chi",
      "userId": "15298477877853561832"
     }
    },
    "outputId": "cd5595f9-3ed3-455e-8f46-ce97d27bf4f9",
    "pycharm": {
     "name": "#%%\n"
    }
   },
   "execution_count": null,
   "outputs": [
    {
     "output_type": "stream",
     "name": "stdout",
     "text": [
      "              precision    recall  f1-score   support\n",
      "\n",
      "           0       0.00      0.00      0.00        29\n",
      "           1       0.00      0.00      0.00        28\n",
      "           2       0.00      0.00      0.00         4\n",
      "           3       0.00      0.00      0.00        22\n",
      "           4       0.20      0.19      0.19        16\n",
      "           5       0.00      0.00      0.00        12\n",
      "           6       0.00      0.00      0.00        41\n",
      "           7       0.56      0.67      0.61        46\n",
      "           8       0.00      0.00      0.00        10\n",
      "           9       0.17      0.11      0.13         9\n",
      "          10       0.00      0.00      0.00        44\n",
      "          11       0.25      0.07      0.11        14\n",
      "          12       0.00      0.00      0.00        40\n",
      "          13       0.00      0.00      0.00         5\n",
      "          14       0.00      0.00      0.00        37\n",
      "          15       0.00      0.00      0.00        28\n",
      "          16       0.00      0.00      0.00        14\n",
      "          17       0.14      0.29      0.18        38\n",
      "          18       0.00      0.00      0.00        23\n",
      "          19       0.15      0.79      0.25        78\n",
      "          20       0.00      0.00      0.00        17\n",
      "          21       0.00      0.00      0.00        15\n",
      "          22       0.00      0.00      0.00        36\n",
      "\n",
      "    accuracy                           0.18       606\n",
      "   macro avg       0.06      0.09      0.06       606\n",
      "weighted avg       0.08      0.18      0.10       606\n",
      "\n",
      "              precision    recall  f1-score   support\n",
      "\n",
      "           0       0.00      0.00      0.00         7\n",
      "           1       0.00      0.00      0.00        13\n",
      "           2       0.00      0.00      0.00         6\n",
      "           3       0.00      0.00      0.00        13\n",
      "           4       0.00      0.00      0.00         2\n",
      "           5       0.00      0.00      0.00         9\n",
      "           6       0.00      0.00      0.00        20\n",
      "           7       0.50      0.52      0.51        21\n",
      "           8       0.00      0.00      0.00         4\n",
      "           9       0.33      0.12      0.18         8\n",
      "          10       0.00      0.00      0.00        28\n",
      "          11       0.00      0.00      0.00         4\n",
      "          12       0.00      0.00      0.00        11\n",
      "          13       0.00      0.00      0.00         3\n",
      "          14       0.00      0.00      0.00        11\n",
      "          15       0.00      0.00      0.00        10\n",
      "          16       0.00      0.00      0.00         5\n",
      "          17       0.05      0.12      0.08        16\n",
      "          18       0.00      0.00      0.00        10\n",
      "          19       0.16      0.97      0.28        29\n",
      "          20       0.00      0.00      0.00         7\n",
      "          21       0.00      0.00      0.00         7\n",
      "          22       0.00      0.00      0.00        17\n",
      "\n",
      "    accuracy                           0.16       261\n",
      "   macro avg       0.05      0.08      0.05       261\n",
      "weighted avg       0.07      0.16      0.08       261\n",
      "\n"
     ]
    },
    {
     "output_type": "stream",
     "name": "stderr",
     "text": [
      "/usr/local/lib/python3.7/dist-packages/sklearn/metrics/_classification.py:1318: UndefinedMetricWarning: Precision and F-score are ill-defined and being set to 0.0 in labels with no predicted samples. Use `zero_division` parameter to control this behavior.\n",
      "  _warn_prf(average, modifier, msg_start, len(result))\n",
      "/usr/local/lib/python3.7/dist-packages/sklearn/metrics/_classification.py:1318: UndefinedMetricWarning: Precision and F-score are ill-defined and being set to 0.0 in labels with no predicted samples. Use `zero_division` parameter to control this behavior.\n",
      "  _warn_prf(average, modifier, msg_start, len(result))\n",
      "/usr/local/lib/python3.7/dist-packages/sklearn/metrics/_classification.py:1318: UndefinedMetricWarning: Precision and F-score are ill-defined and being set to 0.0 in labels with no predicted samples. Use `zero_division` parameter to control this behavior.\n",
      "  _warn_prf(average, modifier, msg_start, len(result))\n",
      "/usr/local/lib/python3.7/dist-packages/sklearn/metrics/_classification.py:1318: UndefinedMetricWarning: Precision and F-score are ill-defined and being set to 0.0 in labels with no predicted samples. Use `zero_division` parameter to control this behavior.\n",
      "  _warn_prf(average, modifier, msg_start, len(result))\n",
      "/usr/local/lib/python3.7/dist-packages/sklearn/metrics/_classification.py:1318: UndefinedMetricWarning: Precision and F-score are ill-defined and being set to 0.0 in labels with no predicted samples. Use `zero_division` parameter to control this behavior.\n",
      "  _warn_prf(average, modifier, msg_start, len(result))\n",
      "/usr/local/lib/python3.7/dist-packages/sklearn/metrics/_classification.py:1318: UndefinedMetricWarning: Precision and F-score are ill-defined and being set to 0.0 in labels with no predicted samples. Use `zero_division` parameter to control this behavior.\n",
      "  _warn_prf(average, modifier, msg_start, len(result))\n"
     ]
    }
   ]
  },
  {
   "cell_type": "code",
   "source": [
    "eval(model = RandomForestClassifier(max_depth=2, n_estimators=100, max_features=1))"
   ],
   "metadata": {
    "colab": {
     "base_uri": "https://localhost:8080/"
    },
    "id": "bS4gT3xwkcih",
    "executionInfo": {
     "status": "ok",
     "timestamp": 1658370353868,
     "user_tz": 420,
     "elapsed": 356,
     "user": {
      "displayName": "Nathan Chi",
      "userId": "15298477877853561832"
     }
    },
    "outputId": "500e4dbc-b176-4381-eb54-2e97eb4bd275",
    "pycharm": {
     "name": "#%%\n"
    }
   },
   "execution_count": null,
   "outputs": [
    {
     "output_type": "stream",
     "name": "stdout",
     "text": [
      "              precision    recall  f1-score   support\n",
      "\n",
      "           0       1.00      0.03      0.07        29\n",
      "           1       0.00      0.00      0.00        28\n",
      "           2       0.00      0.00      0.00         4\n",
      "           3       0.00      0.00      0.00        22\n",
      "           4       0.00      0.00      0.00        16\n",
      "           5       0.00      0.00      0.00        12\n",
      "           6       0.00      0.00      0.00        41\n",
      "           7       0.97      0.74      0.84        46\n",
      "           8       0.00      0.00      0.00        10\n",
      "           9       0.00      0.00      0.00         9\n",
      "          10       0.91      0.48      0.63        44\n",
      "          11       0.00      0.00      0.00        14\n",
      "          12       0.00      0.00      0.00        40\n",
      "          13       0.00      0.00      0.00         5\n",
      "          14       0.87      0.35      0.50        37\n",
      "          15       0.00      0.00      0.00        28\n",
      "          16       0.00      0.00      0.00        14\n",
      "          17       0.00      0.00      0.00        38\n",
      "          18       0.00      0.00      0.00        23\n",
      "          19       0.15      1.00      0.26        78\n",
      "          20       0.00      0.00      0.00        17\n",
      "          21       0.00      0.00      0.00        15\n",
      "          22       0.00      0.00      0.00        36\n",
      "\n",
      "    accuracy                           0.24       606\n",
      "   macro avg       0.17      0.11      0.10       606\n",
      "weighted avg       0.26      0.24      0.18       606\n",
      "\n",
      "              precision    recall  f1-score   support\n",
      "\n",
      "           0       0.00      0.00      0.00         7\n",
      "           1       0.00      0.00      0.00        13\n",
      "           2       0.00      0.00      0.00         6\n",
      "           3       0.00      0.00      0.00        13\n",
      "           4       0.00      0.00      0.00         2\n",
      "           5       0.00      0.00      0.00         9\n",
      "           6       0.00      0.00      0.00        20\n",
      "           7       0.73      0.52      0.61        21\n",
      "           8       0.00      0.00      0.00         4\n",
      "           9       0.00      0.00      0.00         8\n",
      "          10       0.78      0.25      0.38        28\n",
      "          11       0.00      0.00      0.00         4\n",
      "          12       0.00      0.00      0.00        11\n",
      "          13       0.00      0.00      0.00         3\n",
      "          14       0.50      0.09      0.15        11\n",
      "          15       0.00      0.00      0.00        10\n",
      "          16       0.00      0.00      0.00         5\n",
      "          17       0.00      0.00      0.00        16\n",
      "          18       0.00      0.00      0.00        10\n",
      "          19       0.12      1.00      0.22        29\n",
      "          20       0.00      0.00      0.00         7\n",
      "          21       0.00      0.00      0.00         7\n",
      "          22       0.00      0.00      0.00        17\n",
      "\n",
      "    accuracy                           0.18       261\n",
      "   macro avg       0.09      0.08      0.06       261\n",
      "weighted avg       0.18      0.18      0.12       261\n",
      "\n"
     ]
    },
    {
     "output_type": "stream",
     "name": "stderr",
     "text": [
      "/usr/local/lib/python3.7/dist-packages/sklearn/metrics/_classification.py:1318: UndefinedMetricWarning: Precision and F-score are ill-defined and being set to 0.0 in labels with no predicted samples. Use `zero_division` parameter to control this behavior.\n",
      "  _warn_prf(average, modifier, msg_start, len(result))\n",
      "/usr/local/lib/python3.7/dist-packages/sklearn/metrics/_classification.py:1318: UndefinedMetricWarning: Precision and F-score are ill-defined and being set to 0.0 in labels with no predicted samples. Use `zero_division` parameter to control this behavior.\n",
      "  _warn_prf(average, modifier, msg_start, len(result))\n",
      "/usr/local/lib/python3.7/dist-packages/sklearn/metrics/_classification.py:1318: UndefinedMetricWarning: Precision and F-score are ill-defined and being set to 0.0 in labels with no predicted samples. Use `zero_division` parameter to control this behavior.\n",
      "  _warn_prf(average, modifier, msg_start, len(result))\n",
      "/usr/local/lib/python3.7/dist-packages/sklearn/metrics/_classification.py:1318: UndefinedMetricWarning: Precision and F-score are ill-defined and being set to 0.0 in labels with no predicted samples. Use `zero_division` parameter to control this behavior.\n",
      "  _warn_prf(average, modifier, msg_start, len(result))\n",
      "/usr/local/lib/python3.7/dist-packages/sklearn/metrics/_classification.py:1318: UndefinedMetricWarning: Precision and F-score are ill-defined and being set to 0.0 in labels with no predicted samples. Use `zero_division` parameter to control this behavior.\n",
      "  _warn_prf(average, modifier, msg_start, len(result))\n",
      "/usr/local/lib/python3.7/dist-packages/sklearn/metrics/_classification.py:1318: UndefinedMetricWarning: Precision and F-score are ill-defined and being set to 0.0 in labels with no predicted samples. Use `zero_division` parameter to control this behavior.\n",
      "  _warn_prf(average, modifier, msg_start, len(result))\n"
     ]
    }
   ]
  },
  {
   "cell_type": "code",
   "source": [
    "svc = SVC(gamma=1, C=0.25)\n",
    "eval(svc)"
   ],
   "metadata": {
    "colab": {
     "base_uri": "https://localhost:8080/"
    },
    "id": "27KgIHoXj4GR",
    "executionInfo": {
     "status": "ok",
     "timestamp": 1658370357355,
     "user_tz": 420,
     "elapsed": 363,
     "user": {
      "displayName": "Nathan Chi",
      "userId": "15298477877853561832"
     }
    },
    "outputId": "196a27bd-29e9-4994-a920-537f8dad201a",
    "pycharm": {
     "name": "#%%\n"
    }
   },
   "execution_count": null,
   "outputs": [
    {
     "output_type": "stream",
     "name": "stdout",
     "text": [
      "              precision    recall  f1-score   support\n",
      "\n",
      "           0       0.00      0.00      0.00        29\n",
      "           1       0.00      0.00      0.00        28\n",
      "           2       0.00      0.00      0.00         4\n",
      "           3       0.00      0.00      0.00        22\n",
      "           4       0.00      0.00      0.00        16\n",
      "           5       0.00      0.00      0.00        12\n",
      "           6       0.71      0.12      0.21        41\n",
      "           7       0.00      0.00      0.00        46\n",
      "           8       0.00      0.00      0.00        10\n",
      "           9       0.00      0.00      0.00         9\n",
      "          10       0.00      0.00      0.00        44\n",
      "          11       0.00      0.00      0.00        14\n",
      "          12       0.00      0.00      0.00        40\n",
      "          13       0.00      0.00      0.00         5\n",
      "          14       0.00      0.00      0.00        37\n",
      "          15       0.00      0.00      0.00        28\n",
      "          16       0.00      0.00      0.00        14\n",
      "          17       0.00      0.00      0.00        38\n",
      "          18       0.00      0.00      0.00        23\n",
      "          19       0.13      1.00      0.23        78\n",
      "          20       0.00      0.00      0.00        17\n",
      "          21       0.00      0.00      0.00        15\n",
      "          22       0.00      0.00      0.00        36\n",
      "\n",
      "    accuracy                           0.14       606\n",
      "   macro avg       0.04      0.05      0.02       606\n",
      "weighted avg       0.07      0.14      0.04       606\n",
      "\n",
      "              precision    recall  f1-score   support\n",
      "\n",
      "           0       0.00      0.00      0.00         7\n",
      "           1       0.00      0.00      0.00        13\n",
      "           2       0.00      0.00      0.00         6\n",
      "           3       0.00      0.00      0.00        13\n",
      "           4       0.00      0.00      0.00         2\n",
      "           5       0.00      0.00      0.00         9\n",
      "           6       0.00      0.00      0.00        20\n",
      "           7       0.00      0.00      0.00        21\n",
      "           8       0.00      0.00      0.00         4\n",
      "           9       0.00      0.00      0.00         8\n",
      "          10       0.00      0.00      0.00        28\n",
      "          11       0.00      0.00      0.00         4\n",
      "          12       0.00      0.00      0.00        11\n",
      "          13       0.00      0.00      0.00         3\n",
      "          14       0.00      0.00      0.00        11\n",
      "          15       0.00      0.00      0.00        10\n",
      "          16       0.00      0.00      0.00         5\n",
      "          17       0.00      0.00      0.00        16\n",
      "          18       0.00      0.00      0.00        10\n",
      "          19       0.11      1.00      0.20        29\n",
      "          20       0.00      0.00      0.00         7\n",
      "          21       0.00      0.00      0.00         7\n",
      "          22       0.00      0.00      0.00        17\n",
      "\n",
      "    accuracy                           0.11       261\n",
      "   macro avg       0.00      0.04      0.01       261\n",
      "weighted avg       0.01      0.11      0.02       261\n",
      "\n"
     ]
    },
    {
     "output_type": "stream",
     "name": "stderr",
     "text": [
      "/usr/local/lib/python3.7/dist-packages/sklearn/metrics/_classification.py:1318: UndefinedMetricWarning: Precision and F-score are ill-defined and being set to 0.0 in labels with no predicted samples. Use `zero_division` parameter to control this behavior.\n",
      "  _warn_prf(average, modifier, msg_start, len(result))\n",
      "/usr/local/lib/python3.7/dist-packages/sklearn/metrics/_classification.py:1318: UndefinedMetricWarning: Precision and F-score are ill-defined and being set to 0.0 in labels with no predicted samples. Use `zero_division` parameter to control this behavior.\n",
      "  _warn_prf(average, modifier, msg_start, len(result))\n",
      "/usr/local/lib/python3.7/dist-packages/sklearn/metrics/_classification.py:1318: UndefinedMetricWarning: Precision and F-score are ill-defined and being set to 0.0 in labels with no predicted samples. Use `zero_division` parameter to control this behavior.\n",
      "  _warn_prf(average, modifier, msg_start, len(result))\n",
      "/usr/local/lib/python3.7/dist-packages/sklearn/metrics/_classification.py:1318: UndefinedMetricWarning: Precision and F-score are ill-defined and being set to 0.0 in labels with no predicted samples. Use `zero_division` parameter to control this behavior.\n",
      "  _warn_prf(average, modifier, msg_start, len(result))\n",
      "/usr/local/lib/python3.7/dist-packages/sklearn/metrics/_classification.py:1318: UndefinedMetricWarning: Precision and F-score are ill-defined and being set to 0.0 in labels with no predicted samples. Use `zero_division` parameter to control this behavior.\n",
      "  _warn_prf(average, modifier, msg_start, len(result))\n",
      "/usr/local/lib/python3.7/dist-packages/sklearn/metrics/_classification.py:1318: UndefinedMetricWarning: Precision and F-score are ill-defined and being set to 0.0 in labels with no predicted samples. Use `zero_division` parameter to control this behavior.\n",
      "  _warn_prf(average, modifier, msg_start, len(result))\n"
     ]
    }
   ]
  },
  {
   "cell_type": "code",
   "source": [],
   "metadata": {
    "id": "4gkruF-pj4QC",
    "pycharm": {
     "name": "#%%\n"
    }
   },
   "execution_count": null,
   "outputs": []
  },
  {
   "cell_type": "code",
   "source": [],
   "metadata": {
    "id": "3LBv5v3Pj4S-",
    "pycharm": {
     "name": "#%%\n"
    }
   },
   "execution_count": null,
   "outputs": []
  },
  {
   "cell_type": "code",
   "source": [],
   "metadata": {
    "id": "e0g0L5hCj4V5",
    "pycharm": {
     "name": "#%%\n"
    }
   },
   "execution_count": null,
   "outputs": []
  },
  {
   "cell_type": "code",
   "source": [],
   "metadata": {
    "id": "emAfKY5w0JFG",
    "pycharm": {
     "name": "#%%\n"
    }
   },
   "execution_count": null,
   "outputs": []
  }
 ]
}